{
 "cells": [
  {
   "cell_type": "code",
   "execution_count": 10,
   "id": "18c24384",
   "metadata": {},
   "outputs": [],
   "source": [
    "from sage.all import *\n",
    "import networkx as nx\n",
    "import matplotlib.pyplot as plt\n",
    "from math import *\n",
    "from itertools import *"
   ]
  },
  {
   "cell_type": "markdown",
   "id": "2a8cf0d6",
   "metadata": {},
   "source": [
    "For permutations $\\sigma \\in \\mathfrak{S}_n$ of normal form $NF(\\sigma) = (j_1, \\dots, j_{n-1})$ satisfying the normal form condition\n",
    "$$ \\forall i,\\,j_{i+1} \\leq j_i + 1$$\n",
    "We have, $|[e, \\sigma]| = \\prod_i (j_i + 1)$"
   ]
  },
  {
   "cell_type": "code",
   "execution_count": null,
   "id": "d97c74a4",
   "metadata": {},
   "outputs": [],
   "source": [
    "def length_Bruhat_lower_interval(w,W): \n",
    "    \"\"\"\n",
    "    W : WeylGroup Sage class\n",
    "    w : product of simple reflexions in WeylGroup Sage class\n",
    "    Return the length of the Bruhat-interval [e,w] in W\n",
    "    Naive algorithm\n",
    "    \"\"\"\n",
    "    return sum(1 for v in W if v.bruhat_le(w))\n",
    "\n",
    "def NF_2_elem(NF):\n",
    "    \"\"\"\n",
    "    NF = [j1, ... , j_{n-1}]  (0<=j_i<=i)\n",
    "    return the corresponding elemement in (W,S)\n",
    "    \"\"\"\n",
    "    return  prod([prod([s[Integer(i - j)] for j in range(NF[i])]) for i in range(len(NF))])\n",
    "    \n",
    "# The NF satisying j_{i+1} <= j_{i}+1\n",
    "\n",
    "def generate_suites(n, current=None, i=0): \n",
    "    \"\"\"\n",
    "    list of all NF satisying j_{i+1} <= j_{i}+1 in Sn+2\n",
    "    \"\"\"\n",
    "    if current is None:\n",
    "        results = []\n",
    "        for j0 in range(0, 2):\n",
    "            results += generate_suites(n, current=[j0], i=1)\n",
    "        return results\n",
    "    if i > n:\n",
    "        return [current]\n",
    "    j_prev = current[-1]\n",
    "    max_val = min(i + 1, j_prev + 1)\n",
    "    suites = []\n",
    "    for j_next in range(0, max_val + 1):\n",
    "        suites += generate_suites(n, current + [j_next], i + 1)\n",
    "    return suites"
   ]
  },
  {
   "cell_type": "markdown",
   "id": "bbbaa83c",
   "metadata": {},
   "source": [
    "The (co)exponents of a permutation $NF(\\sigma) = (j_1, \\dots, j_{n-1})$ satisfying the normal form condition are the $j_i$"
   ]
  },
  {
   "cell_type": "code",
   "execution_count": 6,
   "id": "09e459e6",
   "metadata": {},
   "outputs": [
    {
     "data": {
      "text/plain": [
       "True"
      ]
     },
     "execution_count": 6,
     "metadata": {},
     "output_type": "execute_result"
    }
   ],
   "source": [
    "R = PolynomialRing(QQ, name='q')\n",
    "q = R.gen()\n",
    "W = SymmetricGroup(Integer(5))\n",
    "s1, s2, s3, s4 = W.simple_reflections()\n",
    "a = W.one()\n",
    "b = s1*s2*s1*s3*s2*s1*s4*s3\n",
    "\n",
    "\n",
    "def length_Bruhat_lower_interval(w,W):\n",
    "    \"\"\"\n",
    "    Return the length of the Bruhat-interval [e,w] in W\n",
    "    !!!Naive algorithm!!!\n",
    "    \"\"\"\n",
    "    return sum(1 for v in W if v.bruhat_le(w))\n",
    "\n",
    "\n",
    "def Poincare_polynomial(w):\n",
    "    \"\"\"\n",
    "    return the Poincaré polynomial of w in Coxeter group W\n",
    "    !!!Naive algorithm!!!\n",
    "    \"\"\"\n",
    "    Dw = []\n",
    "    for v in W:\n",
    "        if  v.bruhat_le(w):\n",
    "            Dw.append(v)\n",
    "    return sum([q**(v.length()) for v in Dw])\n",
    "\n",
    "Poincare_polynomial(b) == (1+q)*(1+q+q**2)*(1+q+q**2+q**3)*(1+q+q**2)"
   ]
  },
  {
   "cell_type": "markdown",
   "id": "6738a26a",
   "metadata": {},
   "source": [
    "$w\\in\\mathfrak{S}_n$, the Schubert variety $X_w$ in $SL(n)/B$ is smooth $\\Leftrightarrow$ $w$ avoids $3412$ and $4231$ $\\Leftrightarrow$ $P_w(X) = R_w(X)$. In this case,$$|[e, w]| = \\prod_i (d_i + 1),$$ where the $d_i$ are the exponents of $w$"
   ]
  },
  {
   "cell_type": "code",
   "execution_count": 7,
   "id": "806b0535",
   "metadata": {},
   "outputs": [],
   "source": [
    "def list_index_increasing(L):\n",
    "    \"\"\"\n",
    "    L : List(Integers)\n",
    "    return [i_1, ... , i_k] such that [L[i_1], ... , L[i_k]] is sorted\n",
    "    \"\"\"\n",
    "    Ls = sorted(L)\n",
    "    return [L.index(Ls[i])+1 for i in range(len(Ls))]\n",
    "\n",
    "\n",
    "def avoidance(w,v):\n",
    "    \"\"\"\n",
    "    w in Sl and v in Sk with k<=l given w = [w(1), ..., w(l)], v = [v(1), ..., v(k)]\n",
    "    Return True if w avoids v, False otherwise\n",
    "    \"\"\"\n",
    "    l = len(v)\n",
    "    K = [i+1 for i in range(len(w))]\n",
    "    for C in combinations(K, l):\n",
    "        wC = [w[i-1] for i in list(C)]\n",
    "        if list_index_increasing(wC) == v: # same relative order\n",
    "            return False     \n",
    "    return True\n",
    "\n",
    "def number_smooth_permutation(n):\n",
    "    \"\"\"\n",
    "    return the number of smooth Schubert varieties for the Bruhat decomposistion of SLn\n",
    "    (Weyl group of type A) with 3412 and 4231 avoidance (n>=4)\n",
    "    \"\"\"\n",
    "    K = [i+1 for i in range(n)]\n",
    "    Sn = list(permutations(K))\n",
    "    return sum([1 for s in Sn if avoidance(s,[3,4,1,2]) and avoidance(s,[4,2,3,1])])"
   ]
  },
  {
   "cell_type": "markdown",
   "id": "2465876e",
   "metadata": {},
   "source": [
    "The permutation satisfying the NF condition are smooth"
   ]
  },
  {
   "cell_type": "code",
   "execution_count": 11,
   "id": "1a373426",
   "metadata": {},
   "outputs": [
    {
     "name": "stdout",
     "output_type": "stream",
     "text": [
      "n = 3\n",
      "# NF condition and not smooth: 0\n",
      "--------------------\n",
      "n = 4\n",
      "# NF condition and not smooth: 0\n",
      "--------------------\n",
      "n = 5\n",
      "# NF condition and not smooth: 0\n",
      "--------------------\n",
      "n = 6\n",
      "# NF condition and not smooth: 0\n",
      "--------------------\n",
      "n = 7\n",
      "# NF condition and not smooth: 0\n",
      "--------------------\n",
      "n = 8\n",
      "# NF condition and not smooth: 0\n",
      "--------------------\n",
      "n = 9\n",
      "# NF condition and not smooth: 0\n",
      "--------------------\n"
     ]
    }
   ],
   "source": [
    "\n",
    "def simple_reflexion(i, L):\n",
    "    \"\"\"\n",
    "    return the action of the i-th simple reflexion of Sn on L\n",
    "    (len(L) = n, 0 <= i <= n-1)\n",
    "    \"\"\"\n",
    "    L = L.copy()\n",
    "    L[i], L[i+1] = L[i+1], L[i]\n",
    "    return L\n",
    "\n",
    "def NF_to_list(NF): # /!\\ caution to the composition sense /!\\ \n",
    "    \"\"\"\n",
    "    NF(s) = (j1, ..., jn-1), with 0 <= ji <= i \n",
    "    return [s(1), ... , s(n)]\n",
    "    \"\"\"\n",
    "    n = len(NF) + 1 ; L = [i + 1 for i in range(n)]\n",
    "    for i in reversed(range(len(NF))): \n",
    "        for j in reversed(range(NF[i])):\n",
    "            L = simple_reflexion(i-j, L)\n",
    "    return L\n",
    "    \n",
    "\n",
    "for m in range(1,8):\n",
    "    n = m+2\n",
    "    print('n =', n)\n",
    "    G = generate_suites(m) # (satisfying the NF condition in Sm+2)\n",
    "    LL = [NF_to_list(l) for l in G] ;  count = 0\n",
    "    for usual_form in LL:\n",
    "        if not (avoidance(usual_form,[3,4,1,2]) and avoidance(usual_form,[4,2,3,1])): # not smooth\n",
    "            count += 1\n",
    "    print(\"# NF condition and not smooth:\", count)       \n",
    "    print('-'*20)"
   ]
  },
  {
   "cell_type": "markdown",
   "id": "1393b09f",
   "metadata": {},
   "source": [
    "Normal form of smooth permutations"
   ]
  },
  {
   "cell_type": "code",
   "execution_count": 14,
   "id": "530e82d4",
   "metadata": {},
   "outputs": [],
   "source": [
    "def generate_all_NF(n):\n",
    "    \"\"\"\n",
    "    generate all sequences (j1, ..., jn-1) with 0 <= ji <= i\n",
    "    \"\"\"\n",
    "    R = [range(i+1) for i in range(1,n)]\n",
    "    return [list(seq) for seq in product(*R)]\n",
    "\n",
    "def list_NF_of_smooth(n):\n",
    "    \"\"\"\n",
    "    return the list of all normal forms of smooth permutations\n",
    "    \"\"\"\n",
    "    NFs = generate_all_NF(n) ; smooths = []\n",
    "    for normal_form in NFs:\n",
    "        usual_form = NF_to_list(normal_form) \n",
    "        if avoidance(usual_form,[3,4,1,2]) and avoidance(usual_form,[4,2,3,1]): # smooth permutation\n",
    "            smooths.append(normal_form)\n",
    "    return smooths\n",
    "\n",
    "def generate_all_NF(n):\n",
    "    \"\"\"\n",
    "    generate all sequences (j1, ..., jn-1) with 0 <= ji <= i\n",
    "    \"\"\"\n",
    "    R = [range(i+1) for i in range(1,n)]\n",
    "    return [list(seq) for seq in product(*R)]\n",
    "\n",
    "def list_NF_of_smooth(n):\n",
    "    \"\"\"\n",
    "    return the list of all normal forms of smooth permutations\n",
    "    \"\"\"\n",
    "    NFs = generate_all_NF(n) ; smooths = []\n",
    "    for normal_form in NFs:\n",
    "        usual_form = NF_to_list(normal_form) \n",
    "        if avoidance(usual_form,[3,4,1,2]) and avoidance(usual_form,[4,2,3,1]): # smooth permutation\n",
    "            smooths.append(normal_form)\n",
    "    return smooths\n",
    "\n",
    "def NF_to_prod_simple_reflections(NF):\n",
    "    \"\"\"\n",
    "    Given a normal form NF of the permuation, \n",
    "    return the element in terms of product on simple reflexion \n",
    "    in the class sage.categories.coxeter_groups.CoxeterGroups\n",
    "    \"\"\"\n",
    "    n = len(NF) + 1\n",
    "    W = SymmetricGroup(Integer(n))\n",
    "    s = W.simple_reflections() \n",
    "    \n",
    "    n = len(NF) + 1 ; perm = W.one()\n",
    "    for i in range(len(NF)): \n",
    "        for j in range(NF[i]):\n",
    "            perm = perm*s[i-j+1]\n",
    "    return perm\n",
    "\n",
    "n = 5 ; W = SymmetricGroup(Integer(n)) \n",
    "NF_smooth_perm = list_NF_of_smooth(n)\n"
   ]
  }
 ],
 "metadata": {
  "kernelspec": {
   "display_name": "SageMath 10.5",
   "language": "sage",
   "name": "sagemath"
  },
  "language_info": {
   "codemirror_mode": {
    "name": "ipython",
    "version": 3
   },
   "file_extension": ".py",
   "mimetype": "text/x-python",
   "name": "python",
   "nbconvert_exporter": "python",
   "pygments_lexer": "ipython3",
   "version": "3.11.11"
  }
 },
 "nbformat": 4,
 "nbformat_minor": 5
}
